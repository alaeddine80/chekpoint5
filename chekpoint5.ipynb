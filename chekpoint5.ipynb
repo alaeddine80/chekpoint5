{
 "cells": [
  {
   "cell_type": "code",
   "execution_count": 173,
   "metadata": {},
   "outputs": [
    {
     "name": "stdout",
     "output_type": "stream",
     "text": [
      "1\n",
      "2\n",
      "5\n",
      "5\n"
     ]
    }
   ],
   "source": [
    "#question1\n",
    "def maximun(a,b,c):\n",
    "    if a>b>c:\n",
    "        return(a)\n",
    "    elif b>a>c:\n",
    "        return(b)\n",
    "    else:\n",
    "        return(c)\n",
    "a=input()\n",
    "b=input()\n",
    "c=input()\n",
    "print(maximun(a,b,c))"
   ]
  },
  {
   "cell_type": "code",
   "execution_count": 126,
   "metadata": {},
   "outputs": [],
   "source": [
    "#Question2\n",
    "def addition (a,b):\n",
    "    result1= a + b\n",
    "    return result1\n",
    "def subscription (a,b):\n",
    "    result2= a - b\n",
    "    return result2\n",
    "a=int(input())\n",
    "b=int(input())\n",
    "print((addition(a,b),subscription(a,b)))\n",
    "\n"
   ]
  },
  {
   "cell_type": "code",
   "execution_count": 57,
   "metadata": {},
   "outputs": [
    {
     "name": "stdout",
     "output_type": "stream",
     "text": [
      "65\n",
      "36288000\n",
      "40\n",
      "945\n"
     ]
    }
   ],
   "source": [
    "#Question3\n",
    "\n",
    "list=[1,2,3,4,5,6,7,8,9,10,10]\n",
    "sums_list=lambda list:sum(list,0)\n",
    "print(sums_list(list))\n",
    "mult=lambda list:mult(list)\n",
    "mult=1\n",
    "for i in list:\n",
    "    mult=mult*i\n",
    "print(mult)\n",
    "even_l=0\n",
    "for i in list:\n",
    "  if i%2==0:\n",
    "    even_l+=i\n",
    "print(even_l)\n",
    "odd_l=1\n",
    "for i in list:\n",
    "    if i%2 !=0:\n",
    "        odd_l*=i\n",
    "print(odd_l)\n",
    "        \n",
    "\n",
    "\n",
    "\n",
    "\n",
    "\n"
   ]
  },
  {
   "cell_type": "code",
   "execution_count": 88,
   "metadata": {},
   "outputs": [
    {
     "ename": "SyntaxError",
     "evalue": "unexpected EOF while parsing (<ipython-input-88-d443f23f028a>, line 5)",
     "output_type": "error",
     "traceback": [
      "\u001b[1;36m  File \u001b[1;32m\"<ipython-input-88-d443f23f028a>\"\u001b[1;36m, line \u001b[1;32m5\u001b[0m\n\u001b[1;33m    print(print('-'.join(s_list))\u001b[0m\n\u001b[1;37m                                 ^\u001b[0m\n\u001b[1;31mSyntaxError\u001b[0m\u001b[1;31m:\u001b[0m unexpected EOF while parsing\n"
     ]
    }
   ],
   "source": [
    "#Question4\n",
    "list=[\"green\"-\"red\"-\"yellow\"-\"black\"-\"white\"]\n",
    "s_list=[n for n in list.split(\"-\")]\n",
    "s_list.sorted ()\n",
    "print(print('-'.join(s_list))\n"
   ]
  }
 ],
 "metadata": {
  "kernelspec": {
   "display_name": "Python 3",
   "language": "python",
   "name": "python3"
  },
  "language_info": {
   "codemirror_mode": {
    "name": "ipython",
    "version": 3
   },
   "file_extension": ".py",
   "mimetype": "text/x-python",
   "name": "python",
   "nbconvert_exporter": "python",
   "pygments_lexer": "ipython3",
   "version": "3.8.5"
  }
 },
 "nbformat": 4,
 "nbformat_minor": 4
}
